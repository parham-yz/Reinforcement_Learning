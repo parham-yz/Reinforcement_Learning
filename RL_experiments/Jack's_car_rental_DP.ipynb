{
 "cells": [
  {
   "cell_type": "code",
   "execution_count": 13,
   "metadata": {},
   "outputs": [],
   "source": [
    "import numpy as np\n",
    "import matplotlib.pyplot as plt\n",
    "import itertools\n",
    "import math\n",
    "from scipy.stats import skellam,poisson\n",
    "import tqdm\n"
   ]
  },
  {
   "cell_type": "code",
   "execution_count": 135,
   "metadata": {},
   "outputs": [],
   "source": [
    "class jacksCarRentals:\n",
    "    def __init__(self):\n",
    "        self.carsInEachLocation = np.array([10,10])\n",
    "        self.isTerminated =False\n",
    "    \n",
    "\n",
    "    def interact(self,numberOfCarsToMove):\n",
    "        if self.isTerminated :\n",
    "            return 0, True\n",
    "\n",
    "\n",
    "        self.carsInEachLocation[0] -= numberOfCarsToMove\n",
    "        self.carsInEachLocation[1] += numberOfCarsToMove\n",
    "        \n",
    "        requestedCars = np.random.poisson([3,4])\n",
    "        returnedCars = np.random.poisson([3,2])\n",
    "\n",
    "\n",
    "        self.carsInEachLocation += returnedCars - requestedCars\n",
    "        self.carsInEachLocation = np.where(self.carsInEachLocation > 20,20,self.carsInEachLocation)\n",
    "        if any(self.carsInEachLocation < 0):\n",
    "           self. isTerminated = True\n",
    "        \n",
    "        reward = np.sum(requestedCars)* 10 - numberOfCarsToMove*2\n",
    "        return reward, self.isTerminated\n",
    "        \n",
    "        "
   ]
  },
  {
   "cell_type": "code",
   "execution_count": 222,
   "metadata": {},
   "outputs": [],
   "source": [
    "\n",
    "class Agent:\n",
    "    def __init__(self):\n",
    "        self.vValues = np.zeros((21,21),np.float)\n",
    "        self.policy = np.zeros((21,21),np.int)\n",
    "        self.diff1Dist = skellam(3,3)\n",
    "        self.diff2Dist = skellam(2,4)\n",
    "\n",
    "        self.expectedRewards = np.empty([21,21,11])\n",
    "        for i in range(self.vValues.shape[0]):\n",
    "            for j in range(self.vValues.shape[1]): \n",
    "                for a in range(-5,6):\n",
    "                    self.expectedRewards[i,j,a+5] = (poisson(3).pmf(np.arange(i+1)) * np.arange(i+1)).sum() / poisson(3).cdf((i+1))\n",
    "                    + (poisson(4).pmf(np.arange(j+1)) * np.arange(j+1)).sum() / poisson(3).cdf((i+1))\n",
    "                    - 2*abs(a)\n",
    "\n",
    "\n",
    "\n",
    "    def generateProbs(self,s,a):\n",
    "        i,j = s\n",
    "        A = self.diff1Dist.pmf(np.arange(21)-i+a)\n",
    "        A[19] += 1-self.diff1Dist.cdf(20-i+a) \n",
    "        B = self.diff2Dist.pmf(np.arange(21)-j-a)\n",
    "        B[19] += 1-self.diff2Dist.cdf(20-j-a) \n",
    "\n",
    "        return A.reshape(-1,1) @ B.reshape(1,-1)\n",
    "\n",
    "        \n",
    "    def evaluatePolicy(self,iterations = 10):\n",
    "\n",
    "\n",
    "        for _ in range(iterations):\n",
    "            for i in range(self.vValues.shape[0]):\n",
    "                for j in range(self.vValues.shape[1]):\n",
    "                    a = self.policy[i,j]\n",
    "\n",
    "                    probs = self.generateProbs([i,j],a)\n",
    "                    self.vValues[i,j] = np.sum( self.vValues * probs ) * 0.9 + self.expectedRewards[i,j,a+5]\n",
    "                        \n",
    "            \n",
    "    def policyItration(self):\n",
    "        Diff1 = skellam(3,3)\n",
    "        Diff2 = skellam(2,4)\n",
    "        \n",
    "        for i in range(self.vValues.shape[0]):\n",
    "            for j in range(self.vValues.shape[1]):\n",
    "\n",
    "                neighborValues = []\n",
    "                vs = []\n",
    "                for a in range(-5,6):\n",
    "\n",
    "                    probs = self.generateProbs([i,j],a)\n",
    "                    vs.append( np.sum(self.vValues * probs)* 0.9 + self.expectedRewards[i,j,a+5])\n",
    "\n",
    "                self.policy[i,j] = np.argmax(vs)-5\n",
    "                    "
   ]
  },
  {
   "cell_type": "code",
   "execution_count": 223,
   "metadata": {},
   "outputs": [],
   "source": [
    "ag = Agent()"
   ]
  },
  {
   "cell_type": "code",
   "execution_count": 226,
   "metadata": {},
   "outputs": [],
   "source": [
    "ag.evaluatePolicy(5)\n",
    "ag.policyItration()\n"
   ]
  },
  {
   "cell_type": "code",
   "execution_count": 225,
   "metadata": {},
   "outputs": [
    {
     "data": {
      "text/plain": [
       "<matplotlib.image.AxesImage at 0x7f75eeec6400>"
      ]
     },
     "execution_count": 225,
     "metadata": {},
     "output_type": "execute_result"
    },
    {
     "data": {
      "image/png": "[encoded data removed]",
      "text/plain": [
       "<Figure size 720x720 with 1 Axes>"
      ]
     },
     "metadata": {
      "needs_background": "light"
     },
     "output_type": "display_data"
    }
   ],
   "source": [
    "plt.figure(figsize=[10,10])\n",
    "plt.imshow(np.concatenate([ag.vValues,(ag.policy+5)*ag.vValues.mean()/7],1))\n"
   ]
  },
  {
   "cell_type": "code",
   "execution_count": 187,
   "metadata": {},
   "outputs": [
    {
     "data": {
      "text/plain": [
       "<matplotlib.image.AxesImage at 0x7f75f18a1820>"
      ]
     },
     "execution_count": 187,
     "metadata": {},
     "output_type": "execute_result"
    },
    {
     "data": {
      "image/png": "[encoded data removed]",
      "text/plain": [
       "<Figure size 720x720 with 1 Axes>"
      ]
     },
     "metadata": {
      "needs_background": "light"
     },
     "output_type": "display_data"
    }
   ],
   "source": [
    "plt.figure(figsize=[10,10])\n",
    "plt.imshow(ag.policy)"
   ]
  },
  {
   "cell_type": "markdown",
   "metadata": {},
   "source": []
  },
  {
   "cell_type": "code",
   "execution_count": 188,
   "metadata": {},
   "outputs": [
    {
     "name": "stderr",
     "output_type": "stream",
     "text": [
      "100%|██████████| 10000/10000 [00:08<00:00, 1247.62it/s]\n"
     ]
    },
    {
     "data": {
      "text/plain": [
       "588.6708000000009"
      ]
     },
     "execution_count": 188,
     "metadata": {},
     "output_type": "execute_result"
    }
   ],
   "source": [
    "meanRew = 0\n",
    "for i in tqdm.trange(10000):\n",
    "    env = jacksCarRentals()\n",
    "    rew = 0\n",
    "    for _ in range(100):\n",
    "        a = ag.policy[env.carsInEachLocation[0],env.carsInEachLocation[1]]\n",
    "        # print(env.carsInEachLocation,a)\n",
    "        r, t = env.interact(a)\n",
    "        if t:\n",
    "            break\n",
    "        rew+=r\n",
    "    meanRew = meanRew*(1-1/(i+1)) + rew/(i+1)\n",
    "meanRew"
   ]
  },
  {
   "cell_type": "code",
   "execution_count": null,
   "metadata": {},
   "outputs": [],
   "source": []
  }
 ],
 "metadata": {
  "interpreter": {
   "hash": "8176438c5a17c06f3f3c8391faf90c450e02c98114053005859fe8b14d667a3b"
  },
  "kernelspec": {
   "display_name": "Python 3.8.5 64-bit ('base': conda)",
   "name": "python3"
  },
  "language_info": {
   "codemirror_mode": {
    "name": "ipython",
    "version": 3
   },
   "file_extension": ".py",
   "mimetype": "text/x-python",
   "name": "python",
   "nbconvert_exporter": "python",
   "pygments_lexer": "ipython3",
   "version": "3.8.5"
  },
  "orig_nbformat": 4
 },
 "nbformat": 4,
 "nbformat_minor": 2
}